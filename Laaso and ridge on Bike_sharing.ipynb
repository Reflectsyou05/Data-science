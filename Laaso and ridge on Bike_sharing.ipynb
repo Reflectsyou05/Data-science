{
 "cells": [
  {
   "cell_type": "code",
   "execution_count": 24,
   "id": "d27c5e2a-14f8-462e-a8ea-9ed4519066e4",
   "metadata": {},
   "outputs": [],
   "source": [
    "# Import necessary libraries\n",
    "import pandas as pd\n",
    "import numpy as np\n",
    "import seaborn as sns\n",
    "import matplotlib.pyplot as plt\n",
    "from sklearn.model_selection import train_test_split \n",
    "from sklearn.linear_model import LinearRegression, Ridge, Lasso,ElasticNet\n",
    "from sklearn.preprocessing import StandardScaler\n",
    "from sklearn.datasets import fetch_california_housing\n",
    "import sklearn.cross_decomposition as cv\n",
    "import sklearn\n",
    "import warnings\n",
    "warnings.filterwarnings('ignore')\n"
   ]
  },
  {
   "cell_type": "code",
   "execution_count": 25,
   "id": "0ae5963f-451f-44c7-bf73-a40aa8967938",
   "metadata": {},
   "outputs": [
    {
     "name": "stdout",
     "output_type": "stream",
     "text": [
      "Defaulting to user installation because normal site-packages is not writeable\n",
      "Requirement already satisfied: ucimlrepo in c:\\users\\crossignite.com\\appdata\\roaming\\python\\python311\\site-packages (0.0.7)\n",
      "Requirement already satisfied: pandas>=1.0.0 in c:\\programdata\\anaconda3\\lib\\site-packages (from ucimlrepo) (2.1.4)\n",
      "Requirement already satisfied: certifi>=2020.12.5 in c:\\programdata\\anaconda3\\lib\\site-packages (from ucimlrepo) (2024.2.2)\n",
      "Requirement already satisfied: numpy<2,>=1.23.2 in c:\\programdata\\anaconda3\\lib\\site-packages (from pandas>=1.0.0->ucimlrepo) (1.26.4)\n",
      "Requirement already satisfied: python-dateutil>=2.8.2 in c:\\programdata\\anaconda3\\lib\\site-packages (from pandas>=1.0.0->ucimlrepo) (2.8.2)\n",
      "Requirement already satisfied: pytz>=2020.1 in c:\\programdata\\anaconda3\\lib\\site-packages (from pandas>=1.0.0->ucimlrepo) (2023.3.post1)\n",
      "Requirement already satisfied: tzdata>=2022.1 in c:\\programdata\\anaconda3\\lib\\site-packages (from pandas>=1.0.0->ucimlrepo) (2023.3)\n",
      "Requirement already satisfied: six>=1.5 in c:\\programdata\\anaconda3\\lib\\site-packages (from python-dateutil>=2.8.2->pandas>=1.0.0->ucimlrepo) (1.16.0)\n"
     ]
    }
   ],
   "source": [
    "!pip install ucimlrepo"
   ]
  },
  {
   "cell_type": "code",
   "execution_count": 26,
   "id": "2e997c36-205e-4245-b6bd-16f6cbc8c0ce",
   "metadata": {},
   "outputs": [],
   "source": [
    "from ucimlrepo import fetch_ucirepo, list_available_datasets\n",
    "\n",
    "#fetch dataset\n",
    "#bike_sharing = fetch_ucirepo()"
   ]
  },
  {
   "cell_type": "code",
   "execution_count": 27,
   "id": "b42c9a2f-5069-490d-b925-d4e14c1247d0",
   "metadata": {},
   "outputs": [
    {
     "name": "stdout",
     "output_type": "stream",
     "text": [
      "-------------------------------------\n",
      "The following datasets are available:\n",
      "-------------------------------------\n",
      "Dataset Name                                                                            ID    \n",
      "------------                                                                            --    \n",
      "Abalone                                                                                 1     \n",
      "Adult                                                                                   2     \n",
      "Annealing                                                                               3     \n",
      "Audiology (Standardized)                                                                8     \n",
      "Auto MPG                                                                                9     \n",
      "Automobile                                                                              10    \n",
      "Balance Scale                                                                           12    \n",
      "Balloons                                                                                13    \n",
      "Breast Cancer                                                                           14    \n",
      "Breast Cancer Wisconsin (Original)                                                      15    \n",
      "Breast Cancer Wisconsin (Prognostic)                                                    16    \n",
      "Breast Cancer Wisconsin (Diagnostic)                                                    17    \n",
      "Pittsburgh Bridges                                                                      18    \n",
      "Car Evaluation                                                                          19    \n",
      "Census Income                                                                           20    \n",
      "Chess (King-Rook vs. King-Pawn)                                                         22    \n",
      "Chess (King-Rook vs. King)                                                              23    \n",
      "Connect-4                                                                               26    \n",
      "Credit Approval                                                                         27    \n",
      "Japanese Credit Screening                                                               28    \n",
      "Computer Hardware                                                                       29    \n",
      "Contraceptive Method Choice                                                             30    \n",
      "Covertype                                                                               31    \n",
      "Cylinder Bands                                                                          32    \n",
      "Dermatology                                                                             33    \n",
      "Echocardiogram                                                                          38    \n",
      "Ecoli                                                                                   39    \n",
      "Flags                                                                                   40    \n",
      "Glass Identification                                                                    42    \n",
      "Haberman's Survival                                                                     43    \n",
      "Hayes-Roth                                                                              44    \n",
      "Heart Disease                                                                           45    \n",
      "Hepatitis                                                                               46    \n",
      "Horse Colic                                                                             47    \n",
      "Image Segmentation                                                                      50    \n",
      "Ionosphere                                                                              52    \n",
      "Iris                                                                                    53    \n",
      "ISOLET                                                                                  54    \n",
      "Lenses                                                                                  58    \n",
      "Letter Recognition                                                                      59    \n",
      "Liver Disorders                                                                         60    \n",
      "Lung Cancer                                                                             62    \n",
      "Lymphography                                                                            63    \n",
      "Molecular Biology (Splice-junction Gene Sequences)                                      69    \n",
      "MONK's Problems                                                                         70    \n",
      "Mushroom                                                                                73    \n",
      "Musk (Version 1)                                                                        74    \n",
      "Musk (Version 2)                                                                        75    \n",
      "Nursery                                                                                 76    \n",
      "Page Blocks Classification                                                              78    \n",
      "Optical Recognition of Handwritten Digits                                               80    \n",
      "Pen-Based Recognition of Handwritten Digits                                             81    \n",
      "Post-Operative Patient                                                                  82    \n",
      "Primary Tumor                                                                           83    \n",
      "Servo                                                                                   87    \n",
      "Shuttle Landing Control                                                                 88    \n",
      "Solar Flare                                                                             89    \n",
      "Soybean (Large)                                                                         90    \n",
      "Soybean (Small)                                                                         91    \n",
      "Challenger USA Space Shuttle O-Ring                                                     92    \n",
      "Spambase                                                                                94    \n",
      "SPECT Heart                                                                             95    \n",
      "SPECTF Heart                                                                            96    \n",
      "Tic-Tac-Toe Endgame                                                                     101   \n",
      "Congressional Voting Records                                                            105   \n",
      "Waveform Database Generator (Version 1)                                                 107   \n",
      "Wine                                                                                    109   \n",
      "Yeast                                                                                   110   \n",
      "Zoo                                                                                     111   \n",
      "US Census Data (1990)                                                                   116   \n",
      "Census-Income (KDD)                                                                     117   \n",
      "El Nino                                                                                 122   \n",
      "Statlog (Australian Credit Approval)                                                    143   \n",
      "Statlog (German Credit Data)                                                            144   \n",
      "Statlog (Heart)                                                                         145   \n",
      "Statlog (Landsat Satellite)                                                             146   \n",
      "Statlog (Image Segmentation)                                                            147   \n",
      "Statlog (Shuttle)                                                                       148   \n",
      "Statlog (Vehicle Silhouettes)                                                           149   \n",
      "Connectionist Bench (Sonar, Mines vs. Rocks)                                            151   \n",
      "Cloud                                                                                   155   \n",
      "Poker Hand                                                                              158   \n",
      "MAGIC Gamma Telescope                                                                   159   \n",
      "Mammographic Mass                                                                       161   \n",
      "Forest Fires                                                                            162   \n",
      "Concrete Compressive Strength                                                           165   \n",
      "Ozone Level Detection                                                                   172   \n",
      "Parkinsons                                                                              174   \n",
      "Blood Transfusion Service Center                                                        176   \n",
      "Communities and Crime                                                                   183   \n",
      "Acute Inflammations                                                                     184   \n",
      "Wine Quality                                                                            186   \n",
      "Parkinsons Telemonitoring                                                               189   \n",
      "Cardiotocography                                                                        193   \n",
      "Steel Plates Faults                                                                     198   \n",
      "Communities and Crime Unnormalized                                                      211   \n",
      "Vertebral Column                                                                        212   \n",
      "Bank Marketing                                                                          222   \n",
      "ILPD (Indian Liver Patient Dataset)                                                     225   \n",
      "Skin Segmentation                                                                       229   \n",
      "Individual Household Electric Power Consumption                                         235   \n",
      "Energy Efficiency                                                                       242   \n",
      "Fertility                                                                               244   \n",
      "ISTANBUL STOCK EXCHANGE                                                                 247   \n",
      "User Knowledge Modeling                                                                 257   \n",
      "EEG Eye State                                                                           264   \n",
      "Banknote Authentication                                                                 267   \n",
      "Gas Sensor Array Drift at Different Concentrations                                      270   \n",
      "Bike Sharing                                                                            275   \n",
      "Thoracic Surgery Data                                                                   277   \n",
      "Airfoil Self-Noise                                                                      291   \n",
      "Wholesale customers                                                                     292   \n",
      "Combined Cycle Power Plant                                                              294   \n",
      "Diabetes 130-US Hospitals for Years 1999-2008                                           296   \n",
      "Tennis Major Tournament Match Statistics                                                300   \n",
      "Dow Jones Index                                                                         312   \n",
      "Student Performance                                                                     320   \n",
      "Phishing Websites                                                                       327   \n",
      "Diabetic Retinopathy Debrecen                                                           329   \n",
      "Online News Popularity                                                                  332   \n",
      "Chronic Kidney Disease                                                                  336   \n",
      "Mice Protein Expression                                                                 342   \n",
      "Default of Credit Card Clients                                                          350   \n",
      "Online Retail                                                                           352   \n",
      "Occupancy Detection                                                                     357   \n",
      "Air Quality                                                                             360   \n",
      "Polish Companies Bankruptcy                                                             365   \n",
      "Dota2 Games Results                                                                     367   \n",
      "Facebook Metrics                                                                        368   \n",
      "HTRU2                                                                                   372   \n",
      "Drug Consumption (Quantified)                                                           373   \n",
      "Appliances Energy Prediction                                                            374   \n",
      "Website Phishing                                                                        379   \n",
      "YouTube Spam Collection                                                                 380   \n",
      "Beijing PM2.5                                                                           381   \n",
      "Cervical Cancer (Risk Factors)                                                          383   \n",
      "Stock Portfolio Performance                                                             390   \n",
      "Sales Transactions Weekly                                                               396   \n",
      "Daily Demand Forecasting Orders                                                         409   \n",
      "Autistic Spectrum Disorder Screening Data for Children                                  419   \n",
      "Autism Screening Adult                                                                  426   \n",
      "Absenteeism at work                                                                     445   \n",
      "Breast Cancer Coimbra                                                                   451   \n",
      "Drug Reviews (Druglib.com)                                                              461   \n",
      "Drug Reviews (Drugs.com)                                                                462   \n",
      "Superconductivty Data                                                                   464   \n",
      "Student Academics Performance                                                           467   \n",
      "Online Shoppers Purchasing Intention Dataset                                            468   \n",
      "Electrical Grid Stability Simulated Data                                                471   \n",
      "Real Estate Valuation                                                                   477   \n",
      "Travel Reviews                                                                          484   \n",
      "Travel Review Ratings                                                                   485   \n",
      "Facebook Live Sellers in Thailand                                                       488   \n",
      "Metro Interstate Traffic Volume                                                         492   \n",
      "Hepatitis C Virus (HCV) for Egyptian patients                                           503   \n",
      "Heart Failure Clinical Records                                                          519   \n",
      "Early Stage Diabetes Risk Prediction                                                    529   \n",
      "Pedestrians in Traffic                                                                  536   \n",
      "Cervical Cancer Behavior Risk                                                           537   \n",
      "Estimation of Obesity Levels Based On Eating Habits and Physical Condition              544   \n",
      "Rice (Cammeo and Osmancik)                                                              545   \n",
      "Algerian Forest Fires                                                                   547   \n",
      "Gas Turbine CO and NOx Emission Data Set                                                551   \n",
      "Apartment for Rent Classified                                                           555   \n",
      "Seoul Bike Sharing Demand                                                               560   \n",
      "Iranian Churn                                                                           563   \n",
      "Bone marrow transplant: children                                                        565   \n",
      "COVID-19 Surveillance                                                                   567   \n",
      "HCV data                                                                                571   \n",
      "Taiwanese Bankruptcy Prediction                                                         572   \n",
      "Myocardial infarction complications                                                     579   \n",
      "Student Performance on an Entrance Examination                                          582   \n",
      "Gender by Name                                                                          591   \n",
      "Productivity Prediction of Garment Employees                                            597   \n",
      "AI4I 2020 Predictive Maintenance Dataset                                                601   \n",
      "Dry Bean                                                                                602   \n",
      "In-Vehicle Coupon Recommendation                                                        603   \n",
      "Predict Students' Dropout and Academic Success                                          697   \n",
      "Auction Verification                                                                    713   \n",
      "NATICUSdroid (Android Permissions)                                                      722   \n",
      "Toxicity                                                                                728   \n",
      "DARWIN                                                                                  732   \n",
      "Accelerometer Gyro Mobile Phone                                                         755   \n",
      "Glioma Grading Clinical and Mutation Features                                           759   \n",
      "Multivariate Gait Data                                                                  760   \n",
      "Land Mines                                                                              763   \n",
      "Single Elder Home Monitoring: Gas and Position                                          799   \n",
      "Sepsis Survival Minimal Clinical Records                                                827   \n",
      "Secondary Mushroom                                                                      848   \n",
      "Power Consumption of Tetouan City                                                       849   \n",
      "Raisin                                                                                  850   \n",
      "Steel Industry Energy Consumption                                                       851   \n",
      "Higher Education Students Performance Evaluation                                        856   \n",
      "Risk Factor Prediction of Chronic Kidney Disease                                        857   \n",
      "Maternal Health Risk                                                                    863   \n",
      "Room Occupancy Estimation                                                               864   \n",
      "Cirrhosis Patient Survival Prediction                                                   878   \n",
      "SUPPORT2                                                                                880   \n",
      "National Health and Nutrition Health Survey 2013-2014 (NHANES) Age Prediction Subset    887   \n",
      "AIDS Clinical Trials Group Study 175                                                    890   \n",
      "CDC Diabetes Health Indicators                                                          891   \n",
      "Recipe Reviews and User Feedback                                                        911   \n",
      "Forty Soybean Cultivars from Subsequent Harvests                                        913   \n",
      "Differentiated Thyroid Cancer Recurrence                                                915   \n",
      "Infrared Thermography Temperature                                                       925   \n",
      "National Poll on Healthy Aging (NPHA)                                                   936   \n",
      "Regensburg Pediatric Appendicitis                                                       938   \n",
      "RT-IoT2022                                                                              942   \n",
      "PhiUSIIL Phishing URL (Website)                                                         967   \n",
      "\n"
     ]
    }
   ],
   "source": [
    "# check which datasets can be imported\n",
    "list_available_datasets()\n"
   ]
  },
  {
   "cell_type": "code",
   "execution_count": 28,
   "id": "f2de21b3-8991-4ceb-8729-e2e3ac1607d3",
   "metadata": {},
   "outputs": [],
   "source": [
    "#fetch_ucirepo(name='Bike Sharing')\n"
   ]
  },
  {
   "cell_type": "code",
   "execution_count": 29,
   "id": "30d7c50c-012d-4e16-9740-c38d03586609",
   "metadata": {},
   "outputs": [
    {
     "data": {
      "text/plain": [
       "{'data': {'ids':        instant\n",
       "  0            1\n",
       "  1            2\n",
       "  2            3\n",
       "  3            4\n",
       "  4            5\n",
       "  ...        ...\n",
       "  17374    17375\n",
       "  17375    17376\n",
       "  17376    17377\n",
       "  17377    17378\n",
       "  17378    17379\n",
       "  \n",
       "  [17379 rows x 1 columns],\n",
       "  'features':            dteday  season  yr  mnth  hr  holiday  weekday  workingday  \\\n",
       "  0      2011-01-01       1   0     1   0        0        6           0   \n",
       "  1      2011-01-01       1   0     1   1        0        6           0   \n",
       "  2      2011-01-01       1   0     1   2        0        6           0   \n",
       "  3      2011-01-01       1   0     1   3        0        6           0   \n",
       "  4      2011-01-01       1   0     1   4        0        6           0   \n",
       "  ...           ...     ...  ..   ...  ..      ...      ...         ...   \n",
       "  17374  2012-12-31       1   1    12  19        0        1           1   \n",
       "  17375  2012-12-31       1   1    12  20        0        1           1   \n",
       "  17376  2012-12-31       1   1    12  21        0        1           1   \n",
       "  17377  2012-12-31       1   1    12  22        0        1           1   \n",
       "  17378  2012-12-31       1   1    12  23        0        1           1   \n",
       "  \n",
       "         weathersit  temp   atemp   hum  windspeed  \n",
       "  0               1  0.24  0.2879  0.81     0.0000  \n",
       "  1               1  0.22  0.2727  0.80     0.0000  \n",
       "  2               1  0.22  0.2727  0.80     0.0000  \n",
       "  3               1  0.24  0.2879  0.75     0.0000  \n",
       "  4               1  0.24  0.2879  0.75     0.0000  \n",
       "  ...           ...   ...     ...   ...        ...  \n",
       "  17374           2  0.26  0.2576  0.60     0.1642  \n",
       "  17375           2  0.26  0.2576  0.60     0.1642  \n",
       "  17376           1  0.26  0.2576  0.60     0.1642  \n",
       "  17377           1  0.26  0.2727  0.56     0.1343  \n",
       "  17378           1  0.26  0.2727  0.65     0.1343  \n",
       "  \n",
       "  [17379 rows x 13 columns],\n",
       "  'targets':        cnt\n",
       "  0       16\n",
       "  1       40\n",
       "  2       32\n",
       "  3       13\n",
       "  4        1\n",
       "  ...    ...\n",
       "  17374  119\n",
       "  17375   89\n",
       "  17376   90\n",
       "  17377   61\n",
       "  17378   49\n",
       "  \n",
       "  [17379 rows x 1 columns],\n",
       "  'original':        instant      dteday  season  yr  mnth  hr  holiday  weekday  \\\n",
       "  0            1  2011-01-01       1   0     1   0        0        6   \n",
       "  1            2  2011-01-01       1   0     1   1        0        6   \n",
       "  2            3  2011-01-01       1   0     1   2        0        6   \n",
       "  3            4  2011-01-01       1   0     1   3        0        6   \n",
       "  4            5  2011-01-01       1   0     1   4        0        6   \n",
       "  ...        ...         ...     ...  ..   ...  ..      ...      ...   \n",
       "  17374    17375  2012-12-31       1   1    12  19        0        1   \n",
       "  17375    17376  2012-12-31       1   1    12  20        0        1   \n",
       "  17376    17377  2012-12-31       1   1    12  21        0        1   \n",
       "  17377    17378  2012-12-31       1   1    12  22        0        1   \n",
       "  17378    17379  2012-12-31       1   1    12  23        0        1   \n",
       "  \n",
       "         workingday  weathersit  temp   atemp   hum  windspeed  casual  \\\n",
       "  0               0           1  0.24  0.2879  0.81     0.0000       3   \n",
       "  1               0           1  0.22  0.2727  0.80     0.0000       8   \n",
       "  2               0           1  0.22  0.2727  0.80     0.0000       5   \n",
       "  3               0           1  0.24  0.2879  0.75     0.0000       3   \n",
       "  4               0           1  0.24  0.2879  0.75     0.0000       0   \n",
       "  ...           ...         ...   ...     ...   ...        ...     ...   \n",
       "  17374           1           2  0.26  0.2576  0.60     0.1642      11   \n",
       "  17375           1           2  0.26  0.2576  0.60     0.1642       8   \n",
       "  17376           1           1  0.26  0.2576  0.60     0.1642       7   \n",
       "  17377           1           1  0.26  0.2727  0.56     0.1343      13   \n",
       "  17378           1           1  0.26  0.2727  0.65     0.1343      12   \n",
       "  \n",
       "         registered  cnt  \n",
       "  0              13   16  \n",
       "  1              32   40  \n",
       "  2              27   32  \n",
       "  3              10   13  \n",
       "  4               1    1  \n",
       "  ...           ...  ...  \n",
       "  17374         108  119  \n",
       "  17375          81   89  \n",
       "  17376          83   90  \n",
       "  17377          48   61  \n",
       "  17378          37   49  \n",
       "  \n",
       "  [17379 rows x 17 columns],\n",
       "  'headers': Index(['instant', 'dteday', 'season', 'yr', 'mnth', 'hr', 'holiday', 'weekday',\n",
       "         'workingday', 'weathersit', 'temp', 'atemp', 'hum', 'windspeed',\n",
       "         'casual', 'registered', 'cnt'],\n",
       "        dtype='object')},\n",
       " 'metadata': {'uci_id': 275,\n",
       "  'name': 'Bike Sharing',\n",
       "  'repository_url': 'https://archive.ics.uci.edu/dataset/275/bike+sharing+dataset',\n",
       "  'data_url': 'https://archive.ics.uci.edu/static/public/275/data.csv',\n",
       "  'abstract': 'This dataset contains the hourly and daily count of rental bikes between years 2011 and 2012 in Capital bikeshare system with the corresponding weather and seasonal information.',\n",
       "  'area': 'Social Science',\n",
       "  'tasks': ['Regression'],\n",
       "  'characteristics': ['Multivariate'],\n",
       "  'num_instances': 17389,\n",
       "  'num_features': 13,\n",
       "  'feature_types': ['Integer', 'Real'],\n",
       "  'demographics': [],\n",
       "  'target_col': ['cnt'],\n",
       "  'index_col': ['instant'],\n",
       "  'has_missing_values': 'no',\n",
       "  'missing_values_symbol': None,\n",
       "  'year_of_dataset_creation': 2013,\n",
       "  'last_updated': 'Sun Mar 10 2024',\n",
       "  'dataset_doi': '10.24432/C5W894',\n",
       "  'creators': ['Hadi Fanaee-T'],\n",
       "  'intro_paper': {'title': 'Event labeling combining ensemble detectors and background knowledge',\n",
       "   'authors': 'Hadi Fanaee-T, João Gama',\n",
       "   'published_in': 'Progress in Artificial Intelligence',\n",
       "   'year': 2013,\n",
       "   'url': 'https://www.semanticscholar.org/paper/bc42899f599d31a5d759f3e0a3ea8b52479d6423',\n",
       "   'doi': '10.1007/s13748-013-0040-3'},\n",
       "  'additional_info': {'summary': 'Bike sharing systems are new generation of traditional bike rentals where whole process from membership, rental and return back has become automatic. Through these systems, user is able to easily rent a bike from a particular position and return back at another position. Currently, there are about over 500 bike-sharing programs around the world which is composed of over 500 thousands bicycles. Today, there exists great interest in these systems due to their important role in traffic, environmental and health issues. \\r\\n\\r\\nApart from interesting real world applications of bike sharing systems, the characteristics of data being generated by these systems make them attractive for the research. Opposed to other transport services such as bus or subway, the duration of travel, departure and arrival position is explicitly recorded in these systems. This feature turns bike sharing system into a virtual sensor network that can be used for sensing mobility in the city. Hence, it is expected that most of important events in the city could be detected via monitoring these data.',\n",
       "   'purpose': None,\n",
       "   'funded_by': None,\n",
       "   'instances_represent': None,\n",
       "   'recommended_data_splits': None,\n",
       "   'sensitive_data': None,\n",
       "   'preprocessing_description': None,\n",
       "   'variable_info': 'Both hour.csv and day.csv have the following fields, except hr which is not available in day.csv\\r\\n\\t\\r\\n\\t- instant: record index\\r\\n\\t- dteday : date\\r\\n\\t- season : season (1:winter, 2:spring, 3:summer, 4:fall)\\r\\n\\t- yr : year (0: 2011, 1:2012)\\r\\n\\t- mnth : month ( 1 to 12)\\r\\n\\t- hr : hour (0 to 23)\\r\\n\\t- holiday : weather day is holiday or not (extracted from http://dchr.dc.gov/page/holiday-schedule)\\r\\n\\t- weekday : day of the week\\r\\n\\t- workingday : if day is neither weekend nor holiday is 1, otherwise is 0.\\r\\n\\t+ weathersit : \\r\\n\\t\\t- 1: Clear, Few clouds, Partly cloudy, Partly cloudy\\r\\n\\t\\t- 2: Mist + Cloudy, Mist + Broken clouds, Mist + Few clouds, Mist\\r\\n\\t\\t- 3: Light Snow, Light Rain + Thunderstorm + Scattered clouds, Light Rain + Scattered clouds\\r\\n\\t\\t- 4: Heavy Rain + Ice Pallets + Thunderstorm + Mist, Snow + Fog\\r\\n\\t- temp : Normalized temperature in Celsius. The values are derived via (t-t_min)/(t_max-t_min), t_min=-8, t_max=+39 (only in hourly scale)\\r\\n\\t- atemp: Normalized feeling temperature in Celsius. The values are derived via (t-t_min)/(t_max-t_min), t_min=-16, t_max=+50 (only in hourly scale)\\r\\n\\t- hum: Normalized humidity. The values are divided to 100 (max)\\r\\n\\t- windspeed: Normalized wind speed. The values are divided to 67 (max)\\r\\n\\t- casual: count of casual users\\r\\n\\t- registered: count of registered users\\r\\n\\t- cnt: count of total rental bikes including both casual and registered\\r\\n',\n",
       "   'citation': None}},\n",
       " 'variables':           name     role         type demographic  \\\n",
       " 0      instant       ID      Integer        None   \n",
       " 1       dteday  Feature         Date        None   \n",
       " 2       season  Feature  Categorical        None   \n",
       " 3           yr  Feature  Categorical        None   \n",
       " 4         mnth  Feature  Categorical        None   \n",
       " 5           hr  Feature  Categorical        None   \n",
       " 6      holiday  Feature       Binary        None   \n",
       " 7      weekday  Feature  Categorical        None   \n",
       " 8   workingday  Feature       Binary        None   \n",
       " 9   weathersit  Feature  Categorical        None   \n",
       " 10        temp  Feature   Continuous        None   \n",
       " 11       atemp  Feature   Continuous        None   \n",
       " 12         hum  Feature   Continuous        None   \n",
       " 13   windspeed  Feature   Continuous        None   \n",
       " 14      casual    Other      Integer        None   \n",
       " 15  registered    Other      Integer        None   \n",
       " 16         cnt   Target      Integer        None   \n",
       " \n",
       "                                           description units missing_values  \n",
       " 0                                        record index  None             no  \n",
       " 1                                                date  None             no  \n",
       " 2                1:winter, 2:spring, 3:summer, 4:fall  None             no  \n",
       " 3                             year (0: 2011, 1: 2012)  None             no  \n",
       " 4                                     month (1 to 12)  None             no  \n",
       " 5                                      hour (0 to 23)  None             no  \n",
       " 6   weather day is holiday or not (extracted from ...  None             no  \n",
       " 7                                     day of the week  None             no  \n",
       " 8   if day is neither weekend nor holiday is 1, ot...  None             no  \n",
       " 9   - 1: Clear, Few clouds, Partly cloudy, Partly ...  None             no  \n",
       " 10  Normalized temperature in Celsius. The values ...     C             no  \n",
       " 11  Normalized feeling temperature in Celsius. The...     C             no  \n",
       " 12  Normalized humidity. The values are divided to...  None             no  \n",
       " 13  Normalized wind speed. The values are divided ...  None             no  \n",
       " 14                              count of casual users  None             no  \n",
       " 15                          count of registered users  None             no  \n",
       " 16  count of total rental bikes including both cas...  None             no  }"
      ]
     },
     "execution_count": 29,
     "metadata": {},
     "output_type": "execute_result"
    }
   ],
   "source": [
    "bike_sharing = fetch_ucirepo(id =275)\n",
    "bike_sharing"
   ]
  },
  {
   "cell_type": "code",
   "execution_count": 30,
   "id": "f9daac42-e724-4847-a6b3-a5591543ee7b",
   "metadata": {},
   "outputs": [
    {
     "name": "stdout",
     "output_type": "stream",
     "text": [
      "       cnt\n",
      "0       16\n",
      "1       40\n",
      "2       32\n",
      "3       13\n",
      "4        1\n",
      "...    ...\n",
      "17374  119\n",
      "17375   89\n",
      "17376   90\n",
      "17377   61\n",
      "17378   49\n",
      "\n",
      "[17379 rows x 1 columns]\n"
     ]
    }
   ],
   "source": [
    "# data(as pandas dataframes)\n",
    "x = bike_sharing.data.features\n",
    "y = bike_sharing.data.targets\n",
    "print(y)"
   ]
  },
  {
   "cell_type": "code",
   "execution_count": 31,
   "id": "28889d2c-0586-4cac-8e26-b93428cecdaf",
   "metadata": {},
   "outputs": [
    {
     "name": "stdout",
     "output_type": "stream",
     "text": [
      "{'uci_id': 275, 'name': 'Bike Sharing', 'repository_url': 'https://archive.ics.uci.edu/dataset/275/bike+sharing+dataset', 'data_url': 'https://archive.ics.uci.edu/static/public/275/data.csv', 'abstract': 'This dataset contains the hourly and daily count of rental bikes between years 2011 and 2012 in Capital bikeshare system with the corresponding weather and seasonal information.', 'area': 'Social Science', 'tasks': ['Regression'], 'characteristics': ['Multivariate'], 'num_instances': 17389, 'num_features': 13, 'feature_types': ['Integer', 'Real'], 'demographics': [], 'target_col': ['cnt'], 'index_col': ['instant'], 'has_missing_values': 'no', 'missing_values_symbol': None, 'year_of_dataset_creation': 2013, 'last_updated': 'Sun Mar 10 2024', 'dataset_doi': '10.24432/C5W894', 'creators': ['Hadi Fanaee-T'], 'intro_paper': {'title': 'Event labeling combining ensemble detectors and background knowledge', 'authors': 'Hadi Fanaee-T, João Gama', 'published_in': 'Progress in Artificial Intelligence', 'year': 2013, 'url': 'https://www.semanticscholar.org/paper/bc42899f599d31a5d759f3e0a3ea8b52479d6423', 'doi': '10.1007/s13748-013-0040-3'}, 'additional_info': {'summary': 'Bike sharing systems are new generation of traditional bike rentals where whole process from membership, rental and return back has become automatic. Through these systems, user is able to easily rent a bike from a particular position and return back at another position. Currently, there are about over 500 bike-sharing programs around the world which is composed of over 500 thousands bicycles. Today, there exists great interest in these systems due to their important role in traffic, environmental and health issues. \\r\\n\\r\\nApart from interesting real world applications of bike sharing systems, the characteristics of data being generated by these systems make them attractive for the research. Opposed to other transport services such as bus or subway, the duration of travel, departure and arrival position is explicitly recorded in these systems. This feature turns bike sharing system into a virtual sensor network that can be used for sensing mobility in the city. Hence, it is expected that most of important events in the city could be detected via monitoring these data.', 'purpose': None, 'funded_by': None, 'instances_represent': None, 'recommended_data_splits': None, 'sensitive_data': None, 'preprocessing_description': None, 'variable_info': 'Both hour.csv and day.csv have the following fields, except hr which is not available in day.csv\\r\\n\\t\\r\\n\\t- instant: record index\\r\\n\\t- dteday : date\\r\\n\\t- season : season (1:winter, 2:spring, 3:summer, 4:fall)\\r\\n\\t- yr : year (0: 2011, 1:2012)\\r\\n\\t- mnth : month ( 1 to 12)\\r\\n\\t- hr : hour (0 to 23)\\r\\n\\t- holiday : weather day is holiday or not (extracted from http://dchr.dc.gov/page/holiday-schedule)\\r\\n\\t- weekday : day of the week\\r\\n\\t- workingday : if day is neither weekend nor holiday is 1, otherwise is 0.\\r\\n\\t+ weathersit : \\r\\n\\t\\t- 1: Clear, Few clouds, Partly cloudy, Partly cloudy\\r\\n\\t\\t- 2: Mist + Cloudy, Mist + Broken clouds, Mist + Few clouds, Mist\\r\\n\\t\\t- 3: Light Snow, Light Rain + Thunderstorm + Scattered clouds, Light Rain + Scattered clouds\\r\\n\\t\\t- 4: Heavy Rain + Ice Pallets + Thunderstorm + Mist, Snow + Fog\\r\\n\\t- temp : Normalized temperature in Celsius. The values are derived via (t-t_min)/(t_max-t_min), t_min=-8, t_max=+39 (only in hourly scale)\\r\\n\\t- atemp: Normalized feeling temperature in Celsius. The values are derived via (t-t_min)/(t_max-t_min), t_min=-16, t_max=+50 (only in hourly scale)\\r\\n\\t- hum: Normalized humidity. The values are divided to 100 (max)\\r\\n\\t- windspeed: Normalized wind speed. The values are divided to 67 (max)\\r\\n\\t- casual: count of casual users\\r\\n\\t- registered: count of registered users\\r\\n\\t- cnt: count of total rental bikes including both casual and registered\\r\\n', 'citation': None}}\n"
     ]
    }
   ],
   "source": [
    "## metadata\n",
    "print(bike_sharing.metadata)"
   ]
  },
  {
   "cell_type": "code",
   "execution_count": 32,
   "id": "4b03494c-2072-456d-b4d9-ed868dbe2da6",
   "metadata": {},
   "outputs": [
    {
     "data": {
      "text/plain": [
       "dteday        0\n",
       "season        0\n",
       "yr            0\n",
       "mnth          0\n",
       "hr            0\n",
       "holiday       0\n",
       "weekday       0\n",
       "workingday    0\n",
       "weathersit    0\n",
       "temp          0\n",
       "atemp         0\n",
       "hum           0\n",
       "windspeed     0\n",
       "dtype: int64"
      ]
     },
     "execution_count": 32,
     "metadata": {},
     "output_type": "execute_result"
    }
   ],
   "source": [
    "#X = X.fillna(method='bfill')\n",
    "x.isnull().sum()"
   ]
  },
  {
   "cell_type": "code",
   "execution_count": 33,
   "id": "40055af4-7c21-4e5f-b655-6f6e3d0513c5",
   "metadata": {},
   "outputs": [
    {
     "name": "stdout",
     "output_type": "stream",
     "text": [
      "<class 'pandas.core.frame.DataFrame'>\n",
      "RangeIndex: 17379 entries, 0 to 17378\n",
      "Data columns (total 13 columns):\n",
      " #   Column      Non-Null Count  Dtype  \n",
      "---  ------      --------------  -----  \n",
      " 0   dteday      17379 non-null  object \n",
      " 1   season      17379 non-null  int64  \n",
      " 2   yr          17379 non-null  int64  \n",
      " 3   mnth        17379 non-null  int64  \n",
      " 4   hr          17379 non-null  int64  \n",
      " 5   holiday     17379 non-null  int64  \n",
      " 6   weekday     17379 non-null  int64  \n",
      " 7   workingday  17379 non-null  int64  \n",
      " 8   weathersit  17379 non-null  int64  \n",
      " 9   temp        17379 non-null  float64\n",
      " 10  atemp       17379 non-null  float64\n",
      " 11  hum         17379 non-null  float64\n",
      " 12  windspeed   17379 non-null  float64\n",
      "dtypes: float64(4), int64(8), object(1)\n",
      "memory usage: 1.7+ MB\n"
     ]
    }
   ],
   "source": [
    "x.info()"
   ]
  },
  {
   "cell_type": "code",
   "execution_count": 34,
   "id": "53b540e4-a7b5-4e75-96f8-0b0724a8fe62",
   "metadata": {
    "scrolled": true
   },
   "outputs": [
    {
     "name": "stdout",
     "output_type": "stream",
     "text": [
      "          name     role         type demographic  \\\n",
      "0      instant       ID      Integer        None   \n",
      "1       dteday  Feature         Date        None   \n",
      "2       season  Feature  Categorical        None   \n",
      "3           yr  Feature  Categorical        None   \n",
      "4         mnth  Feature  Categorical        None   \n",
      "5           hr  Feature  Categorical        None   \n",
      "6      holiday  Feature       Binary        None   \n",
      "7      weekday  Feature  Categorical        None   \n",
      "8   workingday  Feature       Binary        None   \n",
      "9   weathersit  Feature  Categorical        None   \n",
      "10        temp  Feature   Continuous        None   \n",
      "11       atemp  Feature   Continuous        None   \n",
      "12         hum  Feature   Continuous        None   \n",
      "13   windspeed  Feature   Continuous        None   \n",
      "14      casual    Other      Integer        None   \n",
      "15  registered    Other      Integer        None   \n",
      "16         cnt   Target      Integer        None   \n",
      "\n",
      "                                          description units missing_values  \n",
      "0                                        record index  None             no  \n",
      "1                                                date  None             no  \n",
      "2                1:winter, 2:spring, 3:summer, 4:fall  None             no  \n",
      "3                             year (0: 2011, 1: 2012)  None             no  \n",
      "4                                     month (1 to 12)  None             no  \n",
      "5                                      hour (0 to 23)  None             no  \n",
      "6   weather day is holiday or not (extracted from ...  None             no  \n",
      "7                                     day of the week  None             no  \n",
      "8   if day is neither weekend nor holiday is 1, ot...  None             no  \n",
      "9   - 1: Clear, Few clouds, Partly cloudy, Partly ...  None             no  \n",
      "10  Normalized temperature in Celsius. The values ...     C             no  \n",
      "11  Normalized feeling temperature in Celsius. The...     C             no  \n",
      "12  Normalized humidity. The values are divided to...  None             no  \n",
      "13  Normalized wind speed. The values are divided ...  None             no  \n",
      "14                              count of casual users  None             no  \n",
      "15                          count of registered users  None             no  \n",
      "16  count of total rental bikes including both cas...  None             no  \n"
     ]
    }
   ],
   "source": [
    "print(bike_sharing.variables)"
   ]
  },
  {
   "cell_type": "raw",
   "id": "975906b7-0b82-4416-94df-1b8b43491969",
   "metadata": {},
   "source": [
    "          name     role         type demographic  \\\n",
    "0      instant       ID      Integer        None   \n",
    "1       dteday  Feature         Date        None   \n",
    "2       season  Feature  Categorical        None   \n",
    "3           yr  Feature  Categorical        None   \n",
    "4         mnth  Feature  Categorical        None   \n",
    "5           hr  Feature  Categorical        None   \n",
    "6      holiday  Feature       Binary        None   \n",
    "7      weekday  Feature  Categorical        None   \n",
    "8   workingday  Feature       Binary        None   \n",
    "9   weathersit  Feature  Categorical        None   \n",
    "10        temp  Feature   Continuous        None   \n",
    "11       atemp  Feature   Continuous        None   \n",
    "12         hum  Feature   Continuous        None   \n",
    "13   windspeed  Feature   Continuous        None   \n",
    "14      casual    Other      Integer        None   \n",
    "15  registered    Other      Integer        None   \n",
    "16         cnt   Target      Integer        None "
   ]
  },
  {
   "cell_type": "code",
   "execution_count": 35,
   "id": "d878f16d-2120-4a5a-9627-9178edf98b19",
   "metadata": {},
   "outputs": [],
   "source": [
    "# converting catgorical to numerical data.\n",
    "x['season']=x['season'].astype('category').cat.codes\n",
    "# X['fuel-system']=X['fuel-system'].astype('category').cat.codes\n",
    "x['yr']=x['yr'].astype('category').cat.codes\n",
    "x['mnth']=x['mnth'].astype('category').cat.codes\n",
    "x['hr']=x['hr'].astype('category').cat.codes\n",
    "x['holiday']=x['holiday'].astype('category').cat.codes\n",
    "x['season']=x['season'].astype('category').cat.codes\n",
    "x['weekday']=x['weekday'].astype('category').cat.codes\n",
    "x['workingday']=x['workingday'].astype('category').cat.codes\n",
    "x['season']=x['season'].astype('category').cat.codes\n",
    "x['weathersit']=x['weathersit'].astype('category').cat.codes\n",
    "x['season']=x['season'].astype('category').cat.codes\n",
    "x['dteday']=x['dteday'].astype('category').cat.codes\n"
   ]
  },
  {
   "cell_type": "code",
   "execution_count": 37,
   "id": "0914e299-9ce4-4e77-8504-8b22076b53bf",
   "metadata": {},
   "outputs": [
    {
     "name": "stdout",
     "output_type": "stream",
     "text": [
      "<class 'pandas.core.frame.DataFrame'>\n",
      "RangeIndex: 17379 entries, 0 to 17378\n",
      "Data columns (total 13 columns):\n",
      " #   Column      Non-Null Count  Dtype  \n",
      "---  ------      --------------  -----  \n",
      " 0   dteday      17379 non-null  int16  \n",
      " 1   season      17379 non-null  int8   \n",
      " 2   yr          17379 non-null  int8   \n",
      " 3   mnth        17379 non-null  int8   \n",
      " 4   hr          17379 non-null  int8   \n",
      " 5   holiday     17379 non-null  int8   \n",
      " 6   weekday     17379 non-null  int8   \n",
      " 7   workingday  17379 non-null  int8   \n",
      " 8   weathersit  17379 non-null  int8   \n",
      " 9   temp        17379 non-null  float64\n",
      " 10  atemp       17379 non-null  float64\n",
      " 11  hum         17379 non-null  float64\n",
      " 12  windspeed   17379 non-null  float64\n",
      "dtypes: float64(4), int16(1), int8(8)\n",
      "memory usage: 712.9 KB\n"
     ]
    }
   ],
   "source": [
    "x.info()"
   ]
  },
  {
   "cell_type": "code",
   "execution_count": 38,
   "id": "2b15c7c3-d65f-4e24-890e-ef9aed84c6b8",
   "metadata": {},
   "outputs": [
    {
     "name": "stdout",
     "output_type": "stream",
     "text": [
      "Linear regression: 0.3898801755060033 0.3853820266418776\n",
      "Lasso regression: 0.38601691103803637 0.380141413544946\n",
      "ridge regression: 0.3898708347554075 0.38537281864420136\n",
      "Elasticnet regression: 0.2827656573443801 0.2827656573443801\n"
     ]
    },
    {
     "data": {
      "text/html": [
       "<div>\n",
       "<style scoped>\n",
       "    .dataframe tbody tr th:only-of-type {\n",
       "        vertical-align: middle;\n",
       "    }\n",
       "\n",
       "    .dataframe tbody tr th {\n",
       "        vertical-align: top;\n",
       "    }\n",
       "\n",
       "    .dataframe thead th {\n",
       "        text-align: right;\n",
       "    }\n",
       "</style>\n",
       "<table border=\"1\" class=\"dataframe\">\n",
       "  <thead>\n",
       "    <tr style=\"text-align: right;\">\n",
       "      <th></th>\n",
       "      <th>LR score</th>\n",
       "      <th>Lasso score</th>\n",
       "      <th>Ridge score</th>\n",
       "      <th>Enet score</th>\n",
       "    </tr>\n",
       "  </thead>\n",
       "  <tbody>\n",
       "    <tr>\n",
       "      <th>Train score</th>\n",
       "      <td>0.389880</td>\n",
       "      <td>0.386017</td>\n",
       "      <td>0.389871</td>\n",
       "      <td>0.282766</td>\n",
       "    </tr>\n",
       "    <tr>\n",
       "      <th>Test score</th>\n",
       "      <td>0.385382</td>\n",
       "      <td>0.380141</td>\n",
       "      <td>0.385373</td>\n",
       "      <td>0.282766</td>\n",
       "    </tr>\n",
       "  </tbody>\n",
       "</table>\n",
       "</div>"
      ],
      "text/plain": [
       "             LR score  Lasso score  Ridge score  Enet score\n",
       "Train score  0.389880     0.386017     0.389871    0.282766\n",
       "Test score   0.385382     0.380141     0.385373    0.282766"
      ]
     },
     "execution_count": 38,
     "metadata": {},
     "output_type": "execute_result"
    }
   ],
   "source": [
    "# Train and Test split the data\n",
    "X_train, X_test, y_train, y_test = train_test_split(x, y, test_size=0.25, random_state=15)\n",
    "\n",
    "# Linear regression model\n",
    "lr_bikesharing = LinearRegression()\n",
    "lr_bikesharing.fit(X_train, y_train)\n",
    "train_score_lr = lr_bikesharing.score(X_train, y_train)\n",
    "test_score_lr = lr_bikesharing.score(X_test, y_test)\n",
    "print('Linear regression:',train_score_lr, test_score_lr)\n",
    "\n",
    "\n",
    "# Lasso regression model\n",
    "lasso_bike_sharing = Lasso()\n",
    "lasso_bike_sharing.fit(X_train, y_train)\n",
    "train_score_lasso = lasso_bike_sharing.score(X_train, y_train)\n",
    "test_score_lasso = lasso_bike_sharing.score(X_test, y_test)\n",
    "print('Lasso regression:', train_score_lasso,test_score_lasso)\n",
    "\n",
    "# Ridge regression model\n",
    "Ridge_Bike_sharing = Ridge()\n",
    "Ridge_Bike_sharing.fit(X_train, y_train)\n",
    "train_score_ridge = Ridge_Bike_sharing.score(X_train, y_train)\n",
    "test_score_ridge = Ridge_Bike_sharing.score(X_test, y_test)\n",
    "print('ridge regression:',train_score_ridge, test_score_ridge)\n",
    "\n",
    "#ElasticNet regession model\n",
    "ElasticNet_bike_sharing = ElasticNet()\n",
    "ElasticNet_bike_sharing.fit(X_train, y_train)\n",
    "train_score_elastic = ElasticNet_bike_sharing.score(X_train, y_train)\n",
    "test_score_elasticnet = ElasticNet_bike_sharing.score(X_train, y_train)\n",
    "print('Elasticnet regression:',train_score_elastic, test_score_elasticnet)\n",
    "\n",
    "\n",
    "result = pd.DataFrame({'LR score' : [train_score_lr,test_score_lr],'Lasso score' : [train_score_lasso,test_score_lasso], \n",
    "                       'Ridge score' : [train_score_ridge,test_score_ridge], 'Enet score': [train_score_elastic,test_score_elasticnet]},\n",
    "                      index = ['Train score', 'Test score'])\n",
    "result"
   ]
  },
  {
   "cell_type": "raw",
   "id": "185b4de4-6d3d-4fe2-bec8-6c8048f7df16",
   "metadata": {},
   "source": [
    "LR = LinearRegression()\n",
    "#LR = LinearRegression()\n",
    "lasso_bike_sharing = Lasso()\n",
    "Ridge_Bike_sharing = Ridge()\n",
    "ElasticNet_bike_sharing = ElasticNet()\n",
    "lr_test_score = LR.score(X_test,y_test)\n",
    "lasso_test_score = lasso.score(X_test,y_test)\n",
    "Ridge_test_score = ridgeReg.score(X_test,y_test)\n",
    "enet_test_score = enet_model.score(X_test,y_test)\n",
    "\n",
    "\n",
    "result = pd.DataFrame({'LR score' : [train_score_lr,lr_test_score],'Lasso score' : [train_score_ls,lasso_test_score], \n",
    "                       'Ridge score' : [train_score_ridge,Ridge_test_score], 'Enet score': [train_enet_score,enet_test_score]},\n",
    "                      index = ['Train score', 'Test score'])"
   ]
  },
  {
   "cell_type": "code",
   "execution_count": 39,
   "id": "5871def5-6ae3-42db-ae88-de24af139c62",
   "metadata": {},
   "outputs": [
    {
     "data": {
      "text/plain": [
       "array([[299.],\n",
       "       [189.],\n",
       "       [288.],\n",
       "       ...,\n",
       "       [247.],\n",
       "       [151.],\n",
       "       [140.]])"
      ]
     },
     "execution_count": 39,
     "metadata": {},
     "output_type": "execute_result"
    }
   ],
   "source": [
    "## prediction \n",
    "y_pred_BC_lr = np.round(lr_bikesharing.predict(X_test))\n",
    "y_pred_BC_lr"
   ]
  },
  {
   "cell_type": "code",
   "execution_count": 40,
   "id": "6678ab4a-a4d7-4757-b2e3-7a632354095a",
   "metadata": {},
   "outputs": [
    {
     "ename": "ValueError",
     "evalue": "x, y, and format string must not be None",
     "output_type": "error",
     "traceback": [
      "\u001b[1;31m---------------------------------------------------------------------------\u001b[0m",
      "\u001b[1;31mValueError\u001b[0m                                Traceback (most recent call last)",
      "Cell \u001b[1;32mIn[40], line 3\u001b[0m\n\u001b[0;32m      1\u001b[0m \u001b[38;5;66;03m#3 Lets plot the coefficients for both the linear and ridge models\u001b[39;00m\n\u001b[0;32m      2\u001b[0m plt\u001b[38;5;241m.\u001b[39mfigure(figsize\u001b[38;5;241m=\u001b[39m (\u001b[38;5;241m6\u001b[39m,\u001b[38;5;241m6\u001b[39m))\n\u001b[1;32m----> 3\u001b[0m plt\u001b[38;5;241m.\u001b[39mplot(bike_sharing\u001b[38;5;241m.\u001b[39mfeature_names,Ridge_Bike_sharing\u001b[38;5;241m.\u001b[39mcoef_,alpha \u001b[38;5;241m=\u001b[39m\u001b[38;5;241m1\u001b[39m,linestyle \u001b[38;5;241m=\u001b[39m \u001b[38;5;124m'\u001b[39m\u001b[38;5;124mnone\u001b[39m\u001b[38;5;124m'\u001b[39m,marker \u001b[38;5;241m=\u001b[39m \u001b[38;5;124m'\u001b[39m\u001b[38;5;124m*\u001b[39m\u001b[38;5;124m'\u001b[39m,markersize \u001b[38;5;241m=\u001b[39m \u001b[38;5;241m5\u001b[39m ,\n\u001b[0;32m      4\u001b[0m          color \u001b[38;5;241m=\u001b[39m\u001b[38;5;124m'\u001b[39m\u001b[38;5;124mr\u001b[39m\u001b[38;5;124m'\u001b[39m,label \u001b[38;5;241m=\u001b[39m \u001b[38;5;124mr\u001b[39m\u001b[38;5;124m'\u001b[39m\u001b[38;5;124mRidge; $\u001b[39m\u001b[38;5;124m\\\u001b[39m\u001b[38;5;124malpha = 0.1$\u001b[39m\u001b[38;5;124m'\u001b[39m, zorder \u001b[38;5;241m=\u001b[39m \u001b[38;5;241m7\u001b[39m) \u001b[38;5;66;03m## zorder is that we want it as first in order.\u001b[39;00m\n\u001b[0;32m      6\u001b[0m plt\u001b[38;5;241m.\u001b[39mplot(bike_sharing\u001b[38;5;241m.\u001b[39mfeature_names,lr_bikesharing\u001b[38;5;241m.\u001b[39mcoef_,alpha \u001b[38;5;241m=\u001b[39m\u001b[38;5;241m0.6\u001b[39m,linestyle \u001b[38;5;241m=\u001b[39m \u001b[38;5;124m'\u001b[39m\u001b[38;5;124mnone\u001b[39m\u001b[38;5;124m'\u001b[39m,marker \u001b[38;5;241m=\u001b[39m \u001b[38;5;124m'\u001b[39m\u001b[38;5;124mo\u001b[39m\u001b[38;5;124m'\u001b[39m,markersize \u001b[38;5;241m=\u001b[39m \u001b[38;5;241m7\u001b[39m ,\n\u001b[0;32m      7\u001b[0m          color \u001b[38;5;241m=\u001b[39m\u001b[38;5;124m'\u001b[39m\u001b[38;5;124mgreen\u001b[39m\u001b[38;5;124m'\u001b[39m,label \u001b[38;5;241m=\u001b[39m \u001b[38;5;124m'\u001b[39m\u001b[38;5;124mLinear Regression\u001b[39m\u001b[38;5;124m'\u001b[39m)\n\u001b[0;32m      9\u001b[0m plt\u001b[38;5;241m.\u001b[39mplot(bike_sharing\u001b[38;5;241m.\u001b[39mfeature_names,lasso_bike_sharing\u001b[38;5;241m.\u001b[39mcoef_,alpha \u001b[38;5;241m=\u001b[39m\u001b[38;5;241m0.8\u001b[39m,linestyle \u001b[38;5;241m=\u001b[39m \u001b[38;5;124m'\u001b[39m\u001b[38;5;124mnone\u001b[39m\u001b[38;5;124m'\u001b[39m,marker \u001b[38;5;241m=\u001b[39m \u001b[38;5;124m'\u001b[39m\u001b[38;5;124mX\u001b[39m\u001b[38;5;124m'\u001b[39m,markersize \u001b[38;5;241m=\u001b[39m \u001b[38;5;241m9\u001b[39m ,\n\u001b[0;32m     10\u001b[0m          color \u001b[38;5;241m=\u001b[39m\u001b[38;5;124m'\u001b[39m\u001b[38;5;124mblue\u001b[39m\u001b[38;5;124m'\u001b[39m,label \u001b[38;5;241m=\u001b[39m \u001b[38;5;124m'\u001b[39m\u001b[38;5;124mLasso Regression\u001b[39m\u001b[38;5;124m'\u001b[39m)\n",
      "File \u001b[1;32mC:\\ProgramData\\anaconda3\\Lib\\site-packages\\matplotlib\\pyplot.py:3578\u001b[0m, in \u001b[0;36mplot\u001b[1;34m(scalex, scaley, data, *args, **kwargs)\u001b[0m\n\u001b[0;32m   3570\u001b[0m \u001b[38;5;129m@_copy_docstring_and_deprecators\u001b[39m(Axes\u001b[38;5;241m.\u001b[39mplot)\n\u001b[0;32m   3571\u001b[0m \u001b[38;5;28;01mdef\u001b[39;00m \u001b[38;5;21mplot\u001b[39m(\n\u001b[0;32m   3572\u001b[0m     \u001b[38;5;241m*\u001b[39margs: \u001b[38;5;28mfloat\u001b[39m \u001b[38;5;241m|\u001b[39m ArrayLike \u001b[38;5;241m|\u001b[39m \u001b[38;5;28mstr\u001b[39m,\n\u001b[1;32m   (...)\u001b[0m\n\u001b[0;32m   3576\u001b[0m     \u001b[38;5;241m*\u001b[39m\u001b[38;5;241m*\u001b[39mkwargs,\n\u001b[0;32m   3577\u001b[0m ) \u001b[38;5;241m-\u001b[39m\u001b[38;5;241m>\u001b[39m \u001b[38;5;28mlist\u001b[39m[Line2D]:\n\u001b[1;32m-> 3578\u001b[0m     \u001b[38;5;28;01mreturn\u001b[39;00m gca()\u001b[38;5;241m.\u001b[39mplot(\n\u001b[0;32m   3579\u001b[0m         \u001b[38;5;241m*\u001b[39margs,\n\u001b[0;32m   3580\u001b[0m         scalex\u001b[38;5;241m=\u001b[39mscalex,\n\u001b[0;32m   3581\u001b[0m         scaley\u001b[38;5;241m=\u001b[39mscaley,\n\u001b[0;32m   3582\u001b[0m         \u001b[38;5;241m*\u001b[39m\u001b[38;5;241m*\u001b[39m({\u001b[38;5;124m\"\u001b[39m\u001b[38;5;124mdata\u001b[39m\u001b[38;5;124m\"\u001b[39m: data} \u001b[38;5;28;01mif\u001b[39;00m data \u001b[38;5;129;01mis\u001b[39;00m \u001b[38;5;129;01mnot\u001b[39;00m \u001b[38;5;28;01mNone\u001b[39;00m \u001b[38;5;28;01melse\u001b[39;00m {}),\n\u001b[0;32m   3583\u001b[0m         \u001b[38;5;241m*\u001b[39m\u001b[38;5;241m*\u001b[39mkwargs,\n\u001b[0;32m   3584\u001b[0m     )\n",
      "File \u001b[1;32mC:\\ProgramData\\anaconda3\\Lib\\site-packages\\matplotlib\\axes\\_axes.py:1721\u001b[0m, in \u001b[0;36mAxes.plot\u001b[1;34m(self, scalex, scaley, data, *args, **kwargs)\u001b[0m\n\u001b[0;32m   1478\u001b[0m \u001b[38;5;250m\u001b[39m\u001b[38;5;124;03m\"\"\"\u001b[39;00m\n\u001b[0;32m   1479\u001b[0m \u001b[38;5;124;03mPlot y versus x as lines and/or markers.\u001b[39;00m\n\u001b[0;32m   1480\u001b[0m \n\u001b[1;32m   (...)\u001b[0m\n\u001b[0;32m   1718\u001b[0m \u001b[38;5;124;03m(``'green'``) or hex strings (``'#008000'``).\u001b[39;00m\n\u001b[0;32m   1719\u001b[0m \u001b[38;5;124;03m\"\"\"\u001b[39;00m\n\u001b[0;32m   1720\u001b[0m kwargs \u001b[38;5;241m=\u001b[39m cbook\u001b[38;5;241m.\u001b[39mnormalize_kwargs(kwargs, mlines\u001b[38;5;241m.\u001b[39mLine2D)\n\u001b[1;32m-> 1721\u001b[0m lines \u001b[38;5;241m=\u001b[39m [\u001b[38;5;241m*\u001b[39m\u001b[38;5;28mself\u001b[39m\u001b[38;5;241m.\u001b[39m_get_lines(\u001b[38;5;28mself\u001b[39m, \u001b[38;5;241m*\u001b[39margs, data\u001b[38;5;241m=\u001b[39mdata, \u001b[38;5;241m*\u001b[39m\u001b[38;5;241m*\u001b[39mkwargs)]\n\u001b[0;32m   1722\u001b[0m \u001b[38;5;28;01mfor\u001b[39;00m line \u001b[38;5;129;01min\u001b[39;00m lines:\n\u001b[0;32m   1723\u001b[0m     \u001b[38;5;28mself\u001b[39m\u001b[38;5;241m.\u001b[39madd_line(line)\n",
      "File \u001b[1;32mC:\\ProgramData\\anaconda3\\Lib\\site-packages\\matplotlib\\axes\\_base.py:303\u001b[0m, in \u001b[0;36m_process_plot_var_args.__call__\u001b[1;34m(self, axes, data, *args, **kwargs)\u001b[0m\n\u001b[0;32m    301\u001b[0m     this \u001b[38;5;241m+\u001b[39m\u001b[38;5;241m=\u001b[39m args[\u001b[38;5;241m0\u001b[39m],\n\u001b[0;32m    302\u001b[0m     args \u001b[38;5;241m=\u001b[39m args[\u001b[38;5;241m1\u001b[39m:]\n\u001b[1;32m--> 303\u001b[0m \u001b[38;5;28;01myield from\u001b[39;00m \u001b[38;5;28mself\u001b[39m\u001b[38;5;241m.\u001b[39m_plot_args(\n\u001b[0;32m    304\u001b[0m     axes, this, kwargs, ambiguous_fmt_datakey\u001b[38;5;241m=\u001b[39mambiguous_fmt_datakey)\n",
      "File \u001b[1;32mC:\\ProgramData\\anaconda3\\Lib\\site-packages\\matplotlib\\axes\\_base.py:460\u001b[0m, in \u001b[0;36m_process_plot_var_args._plot_args\u001b[1;34m(self, axes, tup, kwargs, return_kwargs, ambiguous_fmt_datakey)\u001b[0m\n\u001b[0;32m    457\u001b[0m \u001b[38;5;66;03m# Don't allow any None value; these would be up-converted to one\u001b[39;00m\n\u001b[0;32m    458\u001b[0m \u001b[38;5;66;03m# element array of None which causes problems downstream.\u001b[39;00m\n\u001b[0;32m    459\u001b[0m \u001b[38;5;28;01mif\u001b[39;00m \u001b[38;5;28many\u001b[39m(v \u001b[38;5;129;01mis\u001b[39;00m \u001b[38;5;28;01mNone\u001b[39;00m \u001b[38;5;28;01mfor\u001b[39;00m v \u001b[38;5;129;01min\u001b[39;00m tup):\n\u001b[1;32m--> 460\u001b[0m     \u001b[38;5;28;01mraise\u001b[39;00m \u001b[38;5;167;01mValueError\u001b[39;00m(\u001b[38;5;124m\"\u001b[39m\u001b[38;5;124mx, y, and format string must not be None\u001b[39m\u001b[38;5;124m\"\u001b[39m)\n\u001b[0;32m    462\u001b[0m kw \u001b[38;5;241m=\u001b[39m {}\n\u001b[0;32m    463\u001b[0m \u001b[38;5;28;01mfor\u001b[39;00m prop_name, val \u001b[38;5;129;01min\u001b[39;00m \u001b[38;5;28mzip\u001b[39m((\u001b[38;5;124m'\u001b[39m\u001b[38;5;124mlinestyle\u001b[39m\u001b[38;5;124m'\u001b[39m, \u001b[38;5;124m'\u001b[39m\u001b[38;5;124mmarker\u001b[39m\u001b[38;5;124m'\u001b[39m, \u001b[38;5;124m'\u001b[39m\u001b[38;5;124mcolor\u001b[39m\u001b[38;5;124m'\u001b[39m),\n\u001b[0;32m    464\u001b[0m                           (linestyle, marker, color)):\n",
      "\u001b[1;31mValueError\u001b[0m: x, y, and format string must not be None"
     ]
    },
    {
     "data": {
      "image/png": "[encoded data removed]",
      "text/plain": [
       "<Figure size 600x600 with 1 Axes>"
      ]
     },
     "metadata": {},
     "output_type": "display_data"
    }
   ],
   "source": [
    "#3 Lets plot the coefficients for both the linear and ridge models\n",
    "plt.figure(figsize= (6,6))\n",
    "plt.plot(bike_sharing.feature_names,Ridge_Bike_sharing.coef_,alpha =1,linestyle = 'none',marker = '*',markersize = 5 ,\n",
    "         color ='r',label = r'Ridge; $\\alpha = 0.1$', zorder = 7) ## zorder is that we want it as first in order.\n",
    "\n",
    "plt.plot(bike_sharing.feature_names,lr_bikesharing.coef_,alpha =0.6,linestyle = 'none',marker = 'o',markersize = 7 ,\n",
    "         color ='green',label = 'Linear Regression')\n",
    "\n",
    "plt.plot(bike_sharing.feature_names,lasso_bike_sharing.coef_,alpha =0.8,linestyle = 'none',marker = 'X',markersize = 9 ,\n",
    "         color ='blue',label = 'Lasso Regression')\n",
    "\n",
    "plt.plot(bike_sharing.feature_names,ElasticNet_bike_sharing.coef_,alpha =0.9,linestyle = 'none',marker = 'd',markersize = 10 ,\n",
    "         color ='magenta',label = 'ElasticNet Regression')\n",
    "\n",
    "plt.xticks(rotation =45)\n",
    "plt.title('Comparing the coefficients values of LR, Lasso , Ridge, Enet models')\n",
    "plt.legend()\n",
    "plt.show()"
   ]
  },
  {
   "cell_type": "markdown",
   "id": "93f9100e-7507-40dd-852b-0d5280be192a",
   "metadata": {},
   "source": [
    "## Lasso Cross Validation"
   ]
  },
  {
   "cell_type": "code",
   "execution_count": 41,
   "id": "32706d4c-27a0-419c-a373-9b9bbb8e972f",
   "metadata": {},
   "outputs": [
    {
     "name": "stdout",
     "output_type": "stream",
     "text": [
      "training score : 0.38986420913751796\n",
      "0.0035\n"
     ]
    }
   ],
   "source": [
    "## using the linear cv model\n",
    "from sklearn.linear_model import LassoCV, RidgeCV, ElasticNetCV\n",
    "## Lasso Cross Validation\n",
    "lasso_cv = LassoCV( alphas = [0.0001, 0.0002, 0.0009,0.001,0.002,0.003,0.0035,0.0003,0.01,0.1,1,10],random_state =10).fit(X_train,y_train)\n",
    " # score\n",
    "print(f'training score : {lasso_cv.score(X_train,y_train)}')\n",
    "print(lasso_cv.alpha_)"
   ]
  },
  {
   "cell_type": "code",
   "execution_count": 42,
   "id": "fc1b6c8c-7f84-46db-be67-b914ca6e9ecf",
   "metadata": {},
   "outputs": [
    {
     "data": {
      "text/plain": [
       "1.3862943611198906"
      ]
     },
     "execution_count": 42,
     "metadata": {},
     "output_type": "execute_result"
    }
   ],
   "source": [
    "np.log(4)"
   ]
  },
  {
   "cell_type": "code",
   "execution_count": 43,
   "id": "1906df91-2ef5-4012-aeca-683295618bc7",
   "metadata": {},
   "outputs": [
    {
     "name": "stdout",
     "output_type": "stream",
     "text": [
      "[0.0001     0.00021544 0.00046416 0.001      0.00215443 0.00464159\n",
      " 0.01       0.02154435 0.04641589 0.1       ]\n"
     ]
    }
   ],
   "source": [
    "## Now choosing the random alpha values instead of giving them manually\n",
    "alpha = np.logspace(-4,-1,10)\n",
    "np.empty_like(alpha)\n",
    "print(alpha)"
   ]
  },
  {
   "cell_type": "code",
   "execution_count": 44,
   "id": "dcfafb89-71b3-424c-aac0-de2326b7cc2d",
   "metadata": {},
   "outputs": [
    {
     "name": "stdout",
     "output_type": "stream",
     "text": [
      "[0.38986913 0.38986898 0.38986865 0.38986793 0.38986628 0.38986234\n",
      " 0.38985215 0.38982361 0.38974036 0.38943576]\n"
     ]
    }
   ],
   "source": [
    "alphas = np.logspace(-4,-1,10)\n",
    "scores = np.empty_like(alpha)\n",
    "\n",
    "\n",
    "for i,a in enumerate(alphas):\n",
    "    lasso  = Lasso()\n",
    "    lasso.set_params(alpha=a)\n",
    "    lasso.fit(X_train, y_train)\n",
    "    scores[i] = lasso.score(X_train,y_train)\n",
    "print(scores)"
   ]
  },
  {
   "cell_type": "code",
   "execution_count": 47,
   "id": "c5f4753d-7187-4472-aa08-b30725941622",
   "metadata": {},
   "outputs": [
    {
     "name": "stdout",
     "output_type": "stream",
     "text": [
      "34.65460291878846\n"
     ]
    },
    {
     "data": {
      "image/png": "[encoded data removed]",
      "text/plain": [
       "<Figure size 640x480 with 1 Axes>"
      ]
     },
     "metadata": {},
     "output_type": "display_data"
    }
   ],
   "source": [
    "lassocv = LassoCV(random_state =0)\n",
    "lassocv.fit(x,y)\n",
    "lassocv_score = lassocv.score(X_train,y_train)\n",
    "lassocv_alpha = lassocv.alpha_\n",
    "print(lassocv_alpha)\n",
    "## print('CV',lassocv.coef_)\n",
    "plt.plot(alphas,scores,'-ko')\n",
    "plt.axhline(lassocv_score,color = 'b', ls ='--')\n",
    "plt.axvline(lassocv_alpha,color = 'b', ls ='--')\n",
    "plt.xlabel(r'$\\alpha$')\n",
    "plt.ylabel('Score')\n",
    "plt.xscale('log')\n",
    "sns.despine(offset=15)"
   ]
  },
  {
   "cell_type": "markdown",
   "id": "a36a0eec-9df9-48a0-b478-b4b5c3f8e31d",
   "metadata": {},
   "source": [
    "## Model Tuning"
   ]
  },
  {
   "cell_type": "code",
   "execution_count": 48,
   "id": "adfe56f8-5d99-4cb7-80b4-49f159ec9dad",
   "metadata": {},
   "outputs": [
    {
     "name": "stdout",
     "output_type": "stream",
     "text": [
      "{'fit_time': array([0.09397221, 0.09113574, 0.07810783, 0.07810783, 0.04686093]), 'score_time': array([0., 0., 0., 0., 0.]), 'estimator': [Pipeline(steps=[('standardscaler', StandardScaler()),\n",
      "                ('ridgecv',\n",
      "                 RidgeCV(alphas=array([1.00000000e-03, 1.37382380e-03, 1.88739182e-03, 2.59294380e-03,\n",
      "       3.56224789e-03, 4.89390092e-03, 6.72335754e-03, 9.23670857e-03,\n",
      "       1.26896100e-02, 1.74332882e-02, 2.39502662e-02, 3.29034456e-02,\n",
      "       4.52035366e-02, 6.21016942e-02, 8.53167852e-02, 1.17210230e-01,\n",
      "       1.61026203e-01, 2.21221629e-01, 3.03919538e-01, 4.17531894e-01,\n",
      "       5.73615251e-01, 7.88046282e-01, 1.08263673e+00, 1.48735211e+00,\n",
      "       2.04335972e+00, 2.80721620e+00, 3.85662042e+00, 5.29831691e+00,\n",
      "       7.27895384e+00, 1.00000000e+01])))]), Pipeline(steps=[('standardscaler', StandardScaler()),\n",
      "                ('ridgecv',\n",
      "                 RidgeCV(alphas=array([1.00000000e-03, 1.37382380e-03, 1.88739182e-03, 2.59294380e-03,\n",
      "       3.56224789e-03, 4.89390092e-03, 6.72335754e-03, 9.23670857e-03,\n",
      "       1.26896100e-02, 1.74332882e-02, 2.39502662e-02, 3.29034456e-02,\n",
      "       4.52035366e-02, 6.21016942e-02, 8.53167852e-02, 1.17210230e-01,\n",
      "       1.61026203e-01, 2.21221629e-01, 3.03919538e-01, 4.17531894e-01,\n",
      "       5.73615251e-01, 7.88046282e-01, 1.08263673e+00, 1.48735211e+00,\n",
      "       2.04335972e+00, 2.80721620e+00, 3.85662042e+00, 5.29831691e+00,\n",
      "       7.27895384e+00, 1.00000000e+01])))]), Pipeline(steps=[('standardscaler', StandardScaler()),\n",
      "                ('ridgecv',\n",
      "                 RidgeCV(alphas=array([1.00000000e-03, 1.37382380e-03, 1.88739182e-03, 2.59294380e-03,\n",
      "       3.56224789e-03, 4.89390092e-03, 6.72335754e-03, 9.23670857e-03,\n",
      "       1.26896100e-02, 1.74332882e-02, 2.39502662e-02, 3.29034456e-02,\n",
      "       4.52035366e-02, 6.21016942e-02, 8.53167852e-02, 1.17210230e-01,\n",
      "       1.61026203e-01, 2.21221629e-01, 3.03919538e-01, 4.17531894e-01,\n",
      "       5.73615251e-01, 7.88046282e-01, 1.08263673e+00, 1.48735211e+00,\n",
      "       2.04335972e+00, 2.80721620e+00, 3.85662042e+00, 5.29831691e+00,\n",
      "       7.27895384e+00, 1.00000000e+01])))]), Pipeline(steps=[('standardscaler', StandardScaler()),\n",
      "                ('ridgecv',\n",
      "                 RidgeCV(alphas=array([1.00000000e-03, 1.37382380e-03, 1.88739182e-03, 2.59294380e-03,\n",
      "       3.56224789e-03, 4.89390092e-03, 6.72335754e-03, 9.23670857e-03,\n",
      "       1.26896100e-02, 1.74332882e-02, 2.39502662e-02, 3.29034456e-02,\n",
      "       4.52035366e-02, 6.21016942e-02, 8.53167852e-02, 1.17210230e-01,\n",
      "       1.61026203e-01, 2.21221629e-01, 3.03919538e-01, 4.17531894e-01,\n",
      "       5.73615251e-01, 7.88046282e-01, 1.08263673e+00, 1.48735211e+00,\n",
      "       2.04335972e+00, 2.80721620e+00, 3.85662042e+00, 5.29831691e+00,\n",
      "       7.27895384e+00, 1.00000000e+01])))]), Pipeline(steps=[('standardscaler', StandardScaler()),\n",
      "                ('ridgecv',\n",
      "                 RidgeCV(alphas=array([1.00000000e-03, 1.37382380e-03, 1.88739182e-03, 2.59294380e-03,\n",
      "       3.56224789e-03, 4.89390092e-03, 6.72335754e-03, 9.23670857e-03,\n",
      "       1.26896100e-02, 1.74332882e-02, 2.39502662e-02, 3.29034456e-02,\n",
      "       4.52035366e-02, 6.21016942e-02, 8.53167852e-02, 1.17210230e-01,\n",
      "       1.61026203e-01, 2.21221629e-01, 3.03919538e-01, 4.17531894e-01,\n",
      "       5.73615251e-01, 7.88046282e-01, 1.08263673e+00, 1.48735211e+00,\n",
      "       2.04335972e+00, 2.80721620e+00, 3.85662042e+00, 5.29831691e+00,\n",
      "       7.27895384e+00, 1.00000000e+01])))])], 'test_score': array([0.38618186, 0.39326036, 0.40098884, 0.38495716, 0.37680231])}\n"
     ]
    }
   ],
   "source": [
    "from sklearn.pipeline import make_pipeline\n",
    "from sklearn.model_selection import cross_validate\n",
    "alphas = np.logspace(-3,1,num =30)\n",
    "\n",
    "model = make_pipeline(StandardScaler(), RidgeCV(alphas = alphas))\n",
    "cv_results = cross_validate(model,X_train,y_train,return_estimator = True,n_jobs = 2)\n",
    "print(cv_results)"
   ]
  },
  {
   "cell_type": "code",
   "execution_count": 49,
   "id": "8fa0c2ed-4c39-447a-ac7f-2d5a5b5d5a56",
   "metadata": {},
   "outputs": [
    {
     "name": "stdout",
     "output_type": "stream",
     "text": [
      "[0.38618186 0.39326036 0.40098884 0.38495716 0.37680231]\n",
      "R2 score: 0.388 +_  0.008\n"
     ]
    }
   ],
   "source": [
    "score = cv_results['test_score']\n",
    "print(score)\n",
    "print(f'R2 score: {score.mean():.3f} +_ {score.std(): .3f}')"
   ]
  },
  {
   "cell_type": "code",
   "execution_count": 51,
   "id": "eb1ff9f5-70a7-4cf6-9943-227d8d2666e7",
   "metadata": {},
   "outputs": [
    {
     "name": "stdout",
     "output_type": "stream",
     "text": [
      "{'fit_time': array([0.13224435, 0.1291225 , 0.11401892, 0.12107682, 0.08733273]), 'score_time': array([0.00268006, 0.00268006, 0.00606108, 0.00498676, 0.01562095]), 'estimator': [Pipeline(steps=[('normalizer', Normalizer()),\n",
      "                ('elasticnetcv',\n",
      "                 ElasticNetCV(alphas=array([1.00000000e-03, 1.37382380e-03, 1.88739182e-03, 2.59294380e-03,\n",
      "       3.56224789e-03, 4.89390092e-03, 6.72335754e-03, 9.23670857e-03,\n",
      "       1.26896100e-02, 1.74332882e-02, 2.39502662e-02, 3.29034456e-02,\n",
      "       4.52035366e-02, 6.21016942e-02, 8.53167852e-02, 1.17210230e-01,\n",
      "       1.61026203e-01, 2.21221629e-01, 3.03919538e-01, 4.17531894e-01,\n",
      "       5.73615251e-01, 7.88046282e-01, 1.08263673e+00, 1.48735211e+00,\n",
      "       2.04335972e+00, 2.80721620e+00, 3.85662042e+00, 5.29831691e+00,\n",
      "       7.27895384e+00, 1.00000000e+01])))]), Pipeline(steps=[('normalizer', Normalizer()),\n",
      "                ('elasticnetcv',\n",
      "                 ElasticNetCV(alphas=array([1.00000000e-03, 1.37382380e-03, 1.88739182e-03, 2.59294380e-03,\n",
      "       3.56224789e-03, 4.89390092e-03, 6.72335754e-03, 9.23670857e-03,\n",
      "       1.26896100e-02, 1.74332882e-02, 2.39502662e-02, 3.29034456e-02,\n",
      "       4.52035366e-02, 6.21016942e-02, 8.53167852e-02, 1.17210230e-01,\n",
      "       1.61026203e-01, 2.21221629e-01, 3.03919538e-01, 4.17531894e-01,\n",
      "       5.73615251e-01, 7.88046282e-01, 1.08263673e+00, 1.48735211e+00,\n",
      "       2.04335972e+00, 2.80721620e+00, 3.85662042e+00, 5.29831691e+00,\n",
      "       7.27895384e+00, 1.00000000e+01])))]), Pipeline(steps=[('normalizer', Normalizer()),\n",
      "                ('elasticnetcv',\n",
      "                 ElasticNetCV(alphas=array([1.00000000e-03, 1.37382380e-03, 1.88739182e-03, 2.59294380e-03,\n",
      "       3.56224789e-03, 4.89390092e-03, 6.72335754e-03, 9.23670857e-03,\n",
      "       1.26896100e-02, 1.74332882e-02, 2.39502662e-02, 3.29034456e-02,\n",
      "       4.52035366e-02, 6.21016942e-02, 8.53167852e-02, 1.17210230e-01,\n",
      "       1.61026203e-01, 2.21221629e-01, 3.03919538e-01, 4.17531894e-01,\n",
      "       5.73615251e-01, 7.88046282e-01, 1.08263673e+00, 1.48735211e+00,\n",
      "       2.04335972e+00, 2.80721620e+00, 3.85662042e+00, 5.29831691e+00,\n",
      "       7.27895384e+00, 1.00000000e+01])))]), Pipeline(steps=[('normalizer', Normalizer()),\n",
      "                ('elasticnetcv',\n",
      "                 ElasticNetCV(alphas=array([1.00000000e-03, 1.37382380e-03, 1.88739182e-03, 2.59294380e-03,\n",
      "       3.56224789e-03, 4.89390092e-03, 6.72335754e-03, 9.23670857e-03,\n",
      "       1.26896100e-02, 1.74332882e-02, 2.39502662e-02, 3.29034456e-02,\n",
      "       4.52035366e-02, 6.21016942e-02, 8.53167852e-02, 1.17210230e-01,\n",
      "       1.61026203e-01, 2.21221629e-01, 3.03919538e-01, 4.17531894e-01,\n",
      "       5.73615251e-01, 7.88046282e-01, 1.08263673e+00, 1.48735211e+00,\n",
      "       2.04335972e+00, 2.80721620e+00, 3.85662042e+00, 5.29831691e+00,\n",
      "       7.27895384e+00, 1.00000000e+01])))]), Pipeline(steps=[('normalizer', Normalizer()),\n",
      "                ('elasticnetcv',\n",
      "                 ElasticNetCV(alphas=array([1.00000000e-03, 1.37382380e-03, 1.88739182e-03, 2.59294380e-03,\n",
      "       3.56224789e-03, 4.89390092e-03, 6.72335754e-03, 9.23670857e-03,\n",
      "       1.26896100e-02, 1.74332882e-02, 2.39502662e-02, 3.29034456e-02,\n",
      "       4.52035366e-02, 6.21016942e-02, 8.53167852e-02, 1.17210230e-01,\n",
      "       1.61026203e-01, 2.21221629e-01, 3.03919538e-01, 4.17531894e-01,\n",
      "       5.73615251e-01, 7.88046282e-01, 1.08263673e+00, 1.48735211e+00,\n",
      "       2.04335972e+00, 2.80721620e+00, 3.85662042e+00, 5.29831691e+00,\n",
      "       7.27895384e+00, 1.00000000e+01])))])], 'test_score': array([0.03448793, 0.03877113, 0.0418181 , 0.0358749 , 0.03843281])}\n"
     ]
    }
   ],
   "source": [
    "from sklearn.preprocessing import Normalizer\n",
    "from sklearn.model_selection import cross_validate\n",
    "alphas = np.logspace(-3,1,num =30)\n",
    "\n",
    "model = make_pipeline(Normalizer(), ElasticNetCV(alphas = alphas))\n",
    "cv_results = cross_validate(model,X_train,y_train,return_estimator = True,n_jobs = 2)\n",
    "print(cv_results)"
   ]
  },
  {
   "cell_type": "code",
   "execution_count": null,
   "id": "dfe8ab84-aec8-45cb-99a1-63725dd892ee",
   "metadata": {},
   "outputs": [],
   "source": []
  }
 ],
 "metadata": {
  "kernelspec": {
   "display_name": "Python 3 (ipykernel)",
   "language": "python",
   "name": "python3"
  },
  "language_info": {
   "codemirror_mode": {
    "name": "ipython",
    "version": 3
   },
   "file_extension": ".py",
   "mimetype": "text/x-python",
   "name": "python",
   "nbconvert_exporter": "python",
   "pygments_lexer": "ipython3",
   "version": "3.11.7"
  }
 },
 "nbformat": 4,
 "nbformat_minor": 5
}
